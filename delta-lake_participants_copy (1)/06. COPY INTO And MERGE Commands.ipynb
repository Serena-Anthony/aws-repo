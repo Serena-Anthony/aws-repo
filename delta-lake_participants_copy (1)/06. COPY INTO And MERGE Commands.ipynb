{
 "cells": [
  {
   "cell_type": "markdown",
   "metadata": {
    "application/vnd.databricks.v1+cell": {
     "cellMetadata": {},
     "inputWidgets": {},
     "nuid": "8debbad4-d8a7-40a4-9c18-e9841a94ccda",
     "showTitle": false,
     "tableResultSettingsMap": {},
     "title": ""
    }
   },
   "source": [
    "# COPY INTO and MERGE Commands"
   ]
  },
  {
   "cell_type": "markdown",
   "metadata": {
    "application/vnd.databricks.v1+cell": {
     "cellMetadata": {
      "byteLimit": 2048000,
      "rowLimit": 10000
     },
     "inputWidgets": {},
     "nuid": "3c1ec99a-43ca-4654-af92-68b105ba6756",
     "showTitle": false,
     "tableResultSettingsMap": {},
     "title": ""
    }
   },
   "source": [
    "### COPY INTO Command\n",
    "\n",
    "> - Incrementally loads data into Delta Lake tables from Cloud Storage  \n",
    "> - Supports schema evolution  \n",
    "> - Supports wide range of file formats (CSV, JSON, Parquet, Delta)  \n",
    "> - Alternative to Auto Loader for batch ingestion  \n",
    "\n",
    "Documentation - [COPY INTO](https://learn.microsoft.com/en-us/azure/databricks/sql/language-manual/delta-copy-into)"
   ]
  },
  {
   "cell_type": "markdown",
   "metadata": {
    "application/vnd.databricks.v1+cell": {
     "cellMetadata": {},
     "inputWidgets": {},
     "nuid": "8b86cbcf-7062-4c30-9241-e716a4886222",
     "showTitle": false,
     "tableResultSettingsMap": {},
     "title": ""
    }
   },
   "source": [
    "#### Create the table to copy the data into"
   ]
  },
  {
   "cell_type": "code",
   "execution_count": 0,
   "metadata": {
    "application/vnd.databricks.v1+cell": {
     "cellMetadata": {
      "byteLimit": 2048000,
      "rowLimit": 10000
     },
     "inputWidgets": {},
     "nuid": "2c0f2729-ce33-45e4-90b9-e4091da92917",
     "showTitle": false,
     "tableResultSettingsMap": {},
     "title": ""
    }
   },
   "outputs": [],
   "source": [
    "drop table if exists serio_cat.demo_db.raw_stock_prices;\n",
    "CREATE TABLE IF NOT EXISTS serio_cat.demo_db.raw_stock_prices;"
   ]
  },
  {
   "cell_type": "markdown",
   "metadata": {
    "application/vnd.databricks.v1+cell": {
     "cellMetadata": {},
     "inputWidgets": {},
     "nuid": "d684059e-388e-43b7-aabd-82f25be004e6",
     "showTitle": false,
     "tableResultSettingsMap": {},
     "title": ""
    }
   },
   "source": [
    "#### Incrementally load new files into the table"
   ]
  },
  {
   "cell_type": "code",
   "execution_count": 0,
   "metadata": {
    "application/vnd.databricks.v1+cell": {
     "cellMetadata": {
      "byteLimit": 2048000,
      "rowLimit": 10000
     },
     "inputWidgets": {},
     "nuid": "b911b4ef-85d8-41f5-9a00-11b6cf07e6ac",
     "showTitle": false,
     "tableResultSettingsMap": {},
     "title": ""
    }
   },
   "outputs": [],
   "source": [
    "copy into serio_cat.demo_db.raw_stock_prices\n",
    "from '/Volumes/serio_cat/serio_schema/sample_vol/delta_lake/stock_prices/'\n",
    "fileformat = JSON\n",
    "format_options ('inferSchema' = 'true')\n",
    "copy_options('mergeSchema' = 'true') ; \n",
    "-- mergeSchema - new col in file => add col"
   ]
  },
  {
   "cell_type": "code",
   "execution_count": 0,
   "metadata": {
    "application/vnd.databricks.v1+cell": {
     "cellMetadata": {
      "byteLimit": 2048000,
      "rowLimit": 10000
     },
     "inputWidgets": {},
     "nuid": "d9cf1206-ea5a-41bc-a77b-965bae132c4e",
     "showTitle": false,
     "tableResultSettingsMap": {},
     "title": ""
    }
   },
   "outputs": [],
   "source": [
    "select * from serio_cat.demo_db.raw_stock_prices"
   ]
  },
  {
   "cell_type": "code",
   "execution_count": 0,
   "metadata": {
    "application/vnd.databricks.v1+cell": {
     "cellMetadata": {
      "byteLimit": 2048000,
      "rowLimit": 10000
     },
     "inputWidgets": {},
     "nuid": "97e2e924-e11b-444c-9cc3-5e997962a867",
     "showTitle": false,
     "tableResultSettingsMap": {},
     "title": ""
    }
   },
   "outputs": [],
   "source": [
    "--add another file in volume and run again\n",
    "\n",
    "COPY INTO serio_cat.demo_db.raw_stock_prices\n",
    "FROM '/Volumes/serio_cat/serio_schema/sample_vol/delta_lake/stock_prices/'\n",
    "FILEFORMAT = JSON\n",
    "FORMAT_OPTIONS ('inferSchema' = 'true')\n",
    "COPY_OPTIONS ('mergeSchema' = 'true'); --mergeschema=true means if you have any new column in another file add that column as well"
   ]
  },
  {
   "cell_type": "code",
   "execution_count": 0,
   "metadata": {
    "application/vnd.databricks.v1+cell": {
     "cellMetadata": {
      "byteLimit": 2048000,
      "rowLimit": 10000
     },
     "inputWidgets": {},
     "nuid": "7acbfe15-1842-46da-b814-62f6c7d309bf",
     "showTitle": false,
     "tableResultSettingsMap": {},
     "title": ""
    }
   },
   "outputs": [],
   "source": [
    "select * from serio_cat.demo_db.raw_stock_prices"
   ]
  },
  {
   "cell_type": "markdown",
   "metadata": {
    "application/vnd.databricks.v1+cell": {
     "cellMetadata": {
      "byteLimit": 2048000,
      "rowLimit": 10000
     },
     "inputWidgets": {},
     "nuid": "722f0364-7de8-42cb-a5a0-2495cffc146a",
     "showTitle": false,
     "tableResultSettingsMap": {},
     "title": ""
    }
   },
   "source": [
    "### MERGE Statement\n",
    "> - Used for upserts (Insert/ Update/ Delete operations in a single statement)\n",
    "> - Allows merging new data into a target table based on matching condition\n",
    "\n",
    "Documentation - [MERGE INTO](https://learn.microsoft.com/en-us/azure/databricks/sql/language-manual/delta-merge-into)"
   ]
  },
  {
   "cell_type": "markdown",
   "metadata": {
    "application/vnd.databricks.v1+cell": {
     "cellMetadata": {},
     "inputWidgets": {},
     "nuid": "44579129-360f-4e31-afd1-163a66fa0357",
     "showTitle": false,
     "tableResultSettingsMap": {},
     "title": ""
    }
   },
   "source": [
    "#### Create the table to merge the data into"
   ]
  },
  {
   "cell_type": "code",
   "execution_count": 0,
   "metadata": {
    "application/vnd.databricks.v1+cell": {
     "cellMetadata": {
      "byteLimit": 2048000,
      "rowLimit": 10000
     },
     "inputWidgets": {},
     "nuid": "61134886-0453-4a88-be58-0f2d0c1951e0",
     "showTitle": false,
     "tableResultSettingsMap": {},
     "title": ""
    }
   },
   "outputs": [],
   "source": [
    "drop table if exists serio_cat.demo_db.stock_prices;\n",
    "CREATE TABLE IF NOT EXISTS serio_cat.demo_db.stock_prices\n",
    "(\n",
    "  stock_id STRING,\n",
    "  price DOUBLE,\n",
    "  trading_date DATE\n",
    ");"
   ]
  },
  {
   "cell_type": "markdown",
   "metadata": {
    "application/vnd.databricks.v1+cell": {
     "cellMetadata": {},
     "inputWidgets": {},
     "nuid": "7dc6668e-e0da-4362-90f8-46cfe97f2a25",
     "showTitle": false,
     "tableResultSettingsMap": {},
     "title": ""
    }
   },
   "source": [
    "#### Merge the source data into target table\n",
    "1. Insert new stocks received\n",
    "2. Update price and trading_date if updates receieved\n",
    "3. Delete stocks which are de-listed from the exchange (status = 'DELISTED')"
   ]
  },
  {
   "cell_type": "code",
   "execution_count": 0,
   "metadata": {
    "application/vnd.databricks.v1+cell": {
     "cellMetadata": {
      "byteLimit": 2048000,
      "rowLimit": 10000
     },
     "inputWidgets": {},
     "nuid": "7cf4e0fa-d289-4a28-b099-0e31fffd930c",
     "showTitle": false,
     "tableResultSettingsMap": {},
     "title": ""
    }
   },
   "outputs": [],
   "source": []
  },
  {
   "cell_type": "code",
   "execution_count": 0,
   "metadata": {
    "application/vnd.databricks.v1+cell": {
     "cellMetadata": {
      "byteLimit": 2048000,
      "rowLimit": 10000
     },
     "inputWidgets": {},
     "nuid": "07aeaefe-c6e5-47d6-9899-7b28f6fdba14",
     "showTitle": false,
     "tableResultSettingsMap": {},
     "title": ""
    }
   },
   "outputs": [],
   "source": [
    "merge into serio_cat.demo_db.stock_prices as target\n",
    "using serio_cat.demo_db.raw_stock_prices as source\n",
    "on target.stock_id = source.stock_id\n",
    "when matched and source.status = 'ACTIVE' then\n",
    "   update set target.price = source.price, target.trading_date = source.trading_date\n",
    "when matched and source.status = 'DELISTED' then\n",
    "   delete\n",
    "when not matched and source.status='ACTIVE' then \n",
    "  insert (stock_id,price,trading_date) values (source.stock_id, source.price, source.trading_date);"
   ]
  },
  {
   "cell_type": "code",
   "execution_count": 0,
   "metadata": {
    "application/vnd.databricks.v1+cell": {
     "cellMetadata": {
      "byteLimit": 2048000,
      "rowLimit": 10000
     },
     "inputWidgets": {},
     "nuid": "9ea1a475-ebf7-4955-9074-505ed0a05d1c",
     "showTitle": false,
     "tableResultSettingsMap": {},
     "title": ""
    }
   },
   "outputs": [],
   "source": [
    "delete from serio_cat.demo_db.raw_stock_prices;\n",
    "\n",
    "copy into serio_cat.demo_db.raw_stock_prices\n",
    "from '/Volumes/serio_cat/serio_schema/sample_vol/delta_lake/stock_prices/'\n",
    "fileformat = JSON\n",
    "format_options ('inferSchema' = 'true')\n",
    "copy_options('mergeSchema' = 'true'); \n"
   ]
  },
  {
   "cell_type": "code",
   "execution_count": 0,
   "metadata": {
    "application/vnd.databricks.v1+cell": {
     "cellMetadata": {
      "byteLimit": 2048000,
      "rowLimit": 10000
     },
     "inputWidgets": {},
     "nuid": "38c735c3-f9e1-406a-9448-d832ae9855e8",
     "showTitle": false,
     "tableResultSettingsMap": {},
     "title": ""
    }
   },
   "outputs": [],
   "source": [
    "select * from serio_cat.demo_db.raw_stock_prices;"
   ]
  },
  {
   "cell_type": "code",
   "execution_count": 0,
   "metadata": {
    "application/vnd.databricks.v1+cell": {
     "cellMetadata": {
      "byteLimit": 2048000,
      "rowLimit": 10000
     },
     "inputWidgets": {},
     "nuid": "b6046bba-2d86-4707-9fe6-829cfda59833",
     "showTitle": false,
     "tableResultSettingsMap": {},
     "title": ""
    }
   },
   "outputs": [],
   "source": [
    "drop table if exists customers;\n",
    "\n",
    "create table customers(\n",
    "  customer_id int,\n",
    "  cust_name string,\n",
    "  email string,\n",
    "  city string\n",
    ");\n",
    "\n",
    "insert overwrite table customers\n",
    "select customer_id, cust_name, email, city\n",
    "from json.`/Volumes/workspace/default/cust_vol/customers1.json`\n"
   ]
  },
  {
   "cell_type": "code",
   "execution_count": 0,
   "metadata": {
    "application/vnd.databricks.v1+cell": {
     "cellMetadata": {
      "byteLimit": 2048000,
      "rowLimit": 10000
     },
     "inputWidgets": {},
     "nuid": "4d36cbf8-40cc-4eb3-ba06-612ff465c7e4",
     "showTitle": false,
     "tableResultSettingsMap": {},
     "title": ""
    }
   },
   "outputs": [],
   "source": [
    "merge into customers tgt\n",
    "using (select customer_id, cust_name, email,city from json.`/Volumes/workspace/default/cust_vol/customers1 (1).json`) src\n",
    "on tgt.customer_id = src.customer_id\n",
    "when not matched then insert *"
   ]
  },
  {
   "cell_type": "code",
   "execution_count": 0,
   "metadata": {
    "application/vnd.databricks.v1+cell": {
     "cellMetadata": {},
     "inputWidgets": {},
     "nuid": "29426e0f-0556-4198-8cc2-170fd95c7f50",
     "showTitle": false,
     "tableResultSettingsMap": {},
     "title": ""
    }
   },
   "outputs": [],
   "source": []
  }
 ],
 "metadata": {
  "application/vnd.databricks.v1+notebook": {
   "computePreferences": {
    "hardware": {
     "accelerator": null,
     "gpuPoolId": null,
     "memory": "HIGH"
    }
   },
   "dashboards": [],
   "environmentMetadata": {
    "base_environment": "",
    "environment_version": "4"
   },
   "inputWidgetPreferences": null,
   "language": "sql",
   "notebookMetadata": {
    "pythonIndentUnit": 4
   },
   "notebookName": "06. COPY INTO And MERGE Commands",
   "widgets": {}
  },
  "language_info": {
   "name": "sql"
  }
 },
 "nbformat": 4,
 "nbformat_minor": 0
}
